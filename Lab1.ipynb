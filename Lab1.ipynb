{
 "cells": [
  {
   "cell_type": "markdown",
   "id": "2784b971",
   "metadata": {},
   "source": [
    "### Imports"
   ]
  },
  {
   "cell_type": "code",
   "execution_count": 1,
   "id": "510df09b",
   "metadata": {},
   "outputs": [],
   "source": [
    "import glob\n",
    "import json\n",
    "import numpy as np\n",
    "import os\n",
    "import pandas as pd\n",
    "from sklearn.feature_extraction.text import CountVectorizer\n",
    "from sklearn.linear_model import LogisticRegression  \n",
    "from sklearn.model_selection import train_test_split\n",
    "from sklearn.model_selection import StratifiedKFold, KFold\n",
    "from sklearn.metrics import roc_curve\n",
    "from sklearn.decomposition import TruncatedSVD\n",
    "import matplotlib.pyplot as plt"
   ]
  },
  {
   "cell_type": "code",
   "execution_count": 2,
   "id": "60f1c114",
   "metadata": {},
   "outputs": [],
   "source": [
    "dataset_path = './email_json_dataset1'\n",
    "files = glob.glob(pathname=dataset_path + '/'+'*.json', recursive=False)"
   ]
  },
  {
   "cell_type": "code",
   "execution_count": 3,
   "id": "645af1f8",
   "metadata": {},
   "outputs": [
    {
     "name": "stdout",
     "output_type": "stream",
     "text": [
      "  label                       to_address  \\\n",
      "0  spam        the00@speedy.uwaterloo.ca   \n",
      "1   ham  debian-mirrors@lists.debian.org   \n",
      "2  spam         <the00@plg.uwaterloo.ca>   \n",
      "3  spam         opt4@speedy.uwaterloo.ca   \n",
      "4  spam     ktwarwic@speedy.uwaterloo.ca   \n",
      "\n",
      "                                        from_address  \\\n",
      "0                 \"Tomas Jacobs\" <RickyAmes@aol.com>   \n",
      "1         Yan Morin <yan.morin@savoirfairelinux.com>   \n",
      "2  \"Sheila Crenshaw\" <7stocknews@tractionmarketin...   \n",
      "3       \"Stormy Dempsey\" <vqucsmdfgvsg@ruraltek.com>   \n",
      "4         \"Christi T. Jernigan\" <dcube@totalink.net>   \n",
      "\n",
      "                                             subject  \\\n",
      "0                  Generic Cialis, branded quality@    \n",
      "1                             Typo in /debian/README   \n",
      "2                                   authentic viagra   \n",
      "3                               Nice talking with ya   \n",
      "4  or trembling; stomach cramps; trouble in sleep...   \n",
      "\n",
      "                                                body  \n",
      "0  \\n\\n\\n\\n\\n\\n\\nDo you feel the pressure to perf...  \n",
      "1  Hi, i've just updated from the gulus and I che...  \n",
      "2  authentic viagra\\n\\nMega  authenticV I A G R A...  \n",
      "3  \\nHey Billy, \\n\\nit was really fun going out t...  \n",
      "4  \\n\\n\\n\\n\\n\\n\\nsystem\" of the home.  It will ha...  \n"
     ]
    }
   ],
   "source": [
    "jsons = []\n",
    "for file in files:\n",
    "    filepath = file\n",
    "    f = open(filepath,)\n",
    "    jsons.append(json.load(f))\n",
    "dataframe = pd.DataFrame.from_records(jsons)\n",
    "print(dataframe.head())"
   ]
  },
  {
   "cell_type": "code",
   "execution_count": 4,
   "id": "c1fe8808",
   "metadata": {},
   "outputs": [
    {
     "name": "stdout",
     "output_type": "stream",
     "text": [
      "Size of the array (63542, 32144)\n"
     ]
    }
   ],
   "source": [
    "vectorizer = CountVectorizer(min_df=10)\n",
    "X = vectorizer.fit_transform(dataframe['body'].to_numpy())\n",
    "print('Size of the array', X.shape)"
   ]
  },
  {
   "cell_type": "code",
   "execution_count": 32,
   "id": "e10fefbd",
   "metadata": {},
   "outputs": [
    {
     "name": "stdout",
     "output_type": "stream",
     "text": [
      "(63542, 8)\n"
     ]
    }
   ],
   "source": [
    "svd = TruncatedSVD(n_components=8)\n",
    "X_reduced = svd.fit_transform(X)\n",
    "print(X_reduced.shape)"
   ]
  },
  {
   "cell_type": "code",
   "execution_count": 33,
   "id": "c8e05ce4",
   "metadata": {},
   "outputs": [
    {
     "data": {
      "text/plain": [
       "LogisticRegression(max_iter=150)"
      ]
     },
     "execution_count": 33,
     "metadata": {},
     "output_type": "execute_result"
    }
   ],
   "source": [
    "logreg = LogisticRegression(max_iter=150)  \n",
    "skf = StratifiedKFold(n_splits=3)\n",
    "y = dataframe['label'].to_numpy()\n",
    "X_train, X_val, y_train, y_val = train_test_split(X_reduced, y, test_size=0.1)\n",
    "#print(y_train)\n",
    "logreg.fit(X_train, y_train)"
   ]
  },
  {
   "cell_type": "code",
   "execution_count": 34,
   "id": "dcb018c2",
   "metadata": {},
   "outputs": [
    {
     "name": "stdout",
     "output_type": "stream",
     "text": [
      "(6355,)\n",
      "['ham' 'spam']\n"
     ]
    }
   ],
   "source": [
    "prob = logreg.predict_proba(X_val)\n",
    "y_pred_prob = prob[:,1]\n",
    "print(y_pred_prob.shape)\n",
    "print(np.unique(y_val))\n",
    "fpr, tpr, thresholds = roc_curve(y_val, y_pred_prob, pos_label='spam')"
   ]
  },
  {
   "cell_type": "code",
   "execution_count": 35,
   "id": "82b3fbcf",
   "metadata": {},
   "outputs": [
    {
     "data": {
      "image/png": "[encoded data removed]",
      "text/plain": [
       "<Figure size 432x288 with 1 Axes>"
      ]
     },
     "metadata": {
      "needs_background": "light"
     },
     "output_type": "display_data"
    }
   ],
   "source": [
    "plt.plot([0, 1], [0, 1], 'k--')\n",
    "plt.plot(fpr, tpr, label='Logisitc Regression')\n",
    "plt.xlabel('False Positive Rate')\n",
    "plt.ylabel('True Positive Rate')\n",
    "plt.title('Logistic Regression ROC Curve')\n",
    "plt.show()"
   ]
  }
 ],
 "metadata": {
  "kernelspec": {
   "display_name": "Python 3 (ipykernel)",
   "language": "python",
   "name": "python3"
  },
  "language_info": {
   "codemirror_mode": {
    "name": "ipython",
    "version": 3
   },
   "file_extension": ".py",
   "mimetype": "text/x-python",
   "name": "python",
   "nbconvert_exporter": "python",
   "pygments_lexer": "ipython3",
   "version": "3.9.7"
  }
 },
 "nbformat": 4,
 "nbformat_minor": 5
}
