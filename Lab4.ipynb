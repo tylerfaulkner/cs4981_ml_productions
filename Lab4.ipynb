{
 "cells": [
  {
   "attachments": {},
   "cell_type": "markdown",
   "id": "2784b971",
   "metadata": {},
   "source": [
    "# Lab 4: Spam Classifier on Ingested Data\n",
    "##### ML Productions\n",
    "##### Dr. Nowling\n",
    "\n",
    "## Library Import"
   ]
  },
  {
   "cell_type": "code",
   "execution_count": 2,
   "id": "510df09b",
   "metadata": {},
   "outputs": [],
   "source": [
    "import glob\n",
    "import json\n",
    "import numpy as np\n",
    "import os\n",
    "import pandas as pd\n",
    "import boto3\n",
    "from sklearn.feature_extraction.text import CountVectorizer\n",
    "from sklearn.linear_model import LogisticRegression  \n",
    "from sklearn.model_selection import train_test_split\n",
    "from sklearn.model_selection import StratifiedKFold, KFold\n",
    "from sklearn.metrics import roc_curve\n",
    "from sklearn.decomposition import TruncatedSVD\n",
    "import matplotlib.pyplot as plt\n",
    "from sklearn.metrics import confusion_matrix"
   ]
  },
  {
   "cell_type": "markdown",
   "id": "0fddebc9",
   "metadata": {},
   "source": [
    "## Importing Data\n",
    "\n",
    "The data type of each colum is an object since each colum is comprised of string objects."
   ]
  },
  {
   "cell_type": "code",
   "execution_count": 2,
   "id": "60f1c114",
   "metadata": {},
   "outputs": [],
   "source": [
    "target = boto3.resource('s3',\n",
    "    endpoint_url=os.environ['MINIO_URL'],\n",
    "    aws_access_key_id=os.environ['MINIO_ID'],\n",
    "    aws_secret_access_key=os.environ['MINIO_PASSWORD'],\n",
    "    aws_session_token=None,\n",
    "    config=boto3.session.Config(signature_version='s3v4'),\n",
    "    verify=False\n",
    ")"
   ]
  },
  {
   "cell_type": "code",
   "execution_count": 3,
   "id": "645af1f8",
   "metadata": {},
   "outputs": [
    {
     "name": "stdout",
     "output_type": "stream",
     "text": [
      "label           object\n",
      "to_address      object\n",
      "from_address    object\n",
      "subject         object\n",
      "body            object\n",
      "dtype: object\n"
     ]
    }
   ],
   "source": [
    "jsons = []\n",
    "for file in files:\n",
    "    filepath = file\n",
    "    f = open(filepath,)\n",
    "    jsons.append(json.load(f))\n",
    "dataframe = pd.DataFrame.from_records(jsons)\n",
    "print(dataframe.dtypes)"
   ]
  },
  {
   "cell_type": "markdown",
   "id": "71dac59c",
   "metadata": {},
   "source": [
    "## Transforming Data for Predictions\n",
    "### Count Vectorizer"
   ]
  },
  {
   "cell_type": "code",
   "execution_count": 14,
   "id": "c1fe8808",
   "metadata": {},
   "outputs": [
    {
     "name": "stdout",
     "output_type": "stream",
     "text": [
      "Size of the array (63542, 32144)\n",
      "Columns 32144\n"
     ]
    }
   ],
   "source": [
    "vectorizer = CountVectorizer(min_df=10)\n",
    "X = vectorizer.fit_transform(dataframe['body'].to_numpy())\n",
    "print('Size of the array', X.shape)\n",
    "print('Columns', X.shape[1])"
   ]
  },
  {
   "cell_type": "code",
   "execution_count": 20,
   "id": "04dd4cac",
   "metadata": {},
   "outputs": [
    {
     "name": "stdout",
     "output_type": "stream",
     "text": [
      "Total Elements 2042494048\n",
      "Number of Non-zero elements 6388757\n"
     ]
    }
   ],
   "source": [
    "print('Total Elements', X.shape[0]*X.shape[1])\n",
    "print('Number of Non-zero elements', np.count_nonzero(np.array(X.toarray())))"
   ]
  },
  {
   "cell_type": "markdown",
   "id": "c5a61226",
   "metadata": {},
   "source": [
    "### Dimensionality Reduction\n",
    "\n",
    "#### Clustering the Email"
   ]
  },
  {
   "cell_type": "code",
   "execution_count": 5,
   "id": "5d90325e",
   "metadata": {},
   "outputs": [],
   "source": [
    "svd = TruncatedSVD(n_components=2)\n",
    "X_reduced = svd.fit_transform(X)"
   ]
  },
  {
   "cell_type": "code",
   "execution_count": 6,
   "id": "164d79df",
   "metadata": {},
   "outputs": [
    {
     "data": {
      "image/png": "[encoded data removed]",
      "text/plain": [
       "<Figure size 432x288 with 1 Axes>"
      ]
     },
     "metadata": {
      "needs_background": "light"
     },
     "output_type": "display_data"
    }
   ],
   "source": [
    "colors = dataframe['label'].to_numpy().copy()\n",
    "colors[colors=='ham'] = 'blue'\n",
    "colors[colors=='spam'] = 'red'\n",
    "\n",
    "\n",
    "x_axis = X_reduced[:,0]\n",
    "y_axis = X_reduced[:,1]\n",
    "\n",
    "true_label = x_axis<200\n",
    "\n",
    "x_axis = x_axis[true_label]\n",
    "y_axis = y_axis[true_label]\n",
    "\n",
    "colors = colors[true_label]\n",
    "\n",
    "plt.scatter(x_axis, y_axis, c=colors)\n",
    "plt.show()"
   ]
  },
  {
   "cell_type": "markdown",
   "id": "ec8a0662",
   "metadata": {},
   "source": [
    "#### Finding the Correct Amount of Dimensions\n",
    "\n",
    "I set the max iterations to 300 to avoid convergence warnings."
   ]
  },
  {
   "cell_type": "code",
   "execution_count": 24,
   "id": "e10fefbd",
   "metadata": {},
   "outputs": [],
   "source": [
    "recalls=[]\n",
    "precisions=[]\n",
    "accuracies=[]\n",
    "y = dataframe['label'].to_numpy()\n",
    "component_range = range(1,20)\n",
    "\n",
    "for i in component_range:\n",
    "    svd = TruncatedSVD(n_components=i)\n",
    "    X_reduced = svd.fit_transform(X)\n",
    "    logreg = LogisticRegression(max_iter=300) \n",
    "    X_train, X_val, y_train, y_val = train_test_split(X_reduced, y, test_size=0.3, stratify=y, random_state=0)\n",
    "    logreg.fit(X_train, y_train)\n",
    "    y_pred = logreg.predict(X_val)\n",
    "    matrix = confusion_matrix(y_val, y_pred)\n",
    "    tp = matrix[1][1]\n",
    "    tn = matrix[0][0]\n",
    "    fp = matrix[0][1]\n",
    "    fn = matrix[1][0]\n",
    "    \n",
    "    precisions.append((tp)/(tp+fp))\n",
    "    accuracies.append((tp+tn)/(tp+tn+fn+fp))\n",
    "    recalls.append((tp)/(tp+fn))"
   ]
  },
  {
   "cell_type": "markdown",
   "id": "164b3094",
   "metadata": {},
   "source": [
    "Looking at the graphs below it seems that the optimum number of components is 8. After this point the model appears to have diminishing returns."
   ]
  },
  {
   "cell_type": "code",
   "execution_count": 23,
   "id": "b6d3160e",
   "metadata": {},
   "outputs": [
    {
     "data": {
      "image/png": "[encoded data removed]",
      "text/plain": [
       "<Figure size 1080x288 with 3 Axes>"
      ]
     },
     "metadata": {
      "needs_background": "light"
     },
     "output_type": "display_data"
    }
   ],
   "source": [
    "figure, axis = plt.subplots(1,3)\n",
    "figure.set_figwidth(15)\n",
    "\n",
    "axis[0].plot(component_range, recalls, label='Recall Score')\n",
    "axis[0].set_title('Recall')\n",
    "axis[1].plot(component_range, accuracies, label='Accuracy Score', color='orange')\n",
    "axis[1].set_title('Accuracy')\n",
    "axis[2].plot(component_range, precisions, label='Precision Score', color='green')\n",
    "axis[2].set_title('Precision')\n",
    "plt.show()"
   ]
  },
  {
   "cell_type": "markdown",
   "id": "a52afbc2",
   "metadata": {},
   "source": [
    "## Making Predictions\n",
    "\n",
    "### Downsampling the larger class\n",
    "\n",
    "I will be downsampling after the train test split to avoid data leakage. As noted in this [Medium article](https://towardsdatascience.com/heres-what-i-ve-learnt-about-sklearn-resample-ab735ae1abc4).\n",
    "\n",
    "#### Train Test Split"
   ]
  },
  {
   "cell_type": "code",
   "execution_count": 25,
   "id": "6fe3dc66",
   "metadata": {},
   "outputs": [],
   "source": [
    "svd = TruncatedSVD(n_components=8)\n",
    "X_reduced = svd.fit_transform(X)\n",
    "y = dataframe['label'].to_numpy()\n",
    "X_train, X_val, y_train, y_val = train_test_split(X_reduced, y, test_size=0.3, stratify=y)"
   ]
  },
  {
   "cell_type": "markdown",
   "id": "e15c2832",
   "metadata": {},
   "source": [
    "#### Resampling\n",
    "\n",
    "I am using the downsampling technique shown on [Chris Albon's site](https://chrisalbon.com/code/machine_learning/preprocessing_structured_data/handling_imbalanced_classes_with_downsampling/).\n",
    "\n",
    "The larger class is the spam class, so I will reduce the spam class to match the ham class."
   ]
  },
  {
   "cell_type": "code",
   "execution_count": 31,
   "id": "b758681a",
   "metadata": {},
   "outputs": [
    {
     "name": "stdout",
     "output_type": "stream",
     "text": [
      "16164\n",
      "28315\n"
     ]
    }
   ],
   "source": [
    "i_ham = np.where(y_train=='ham')[0]\n",
    "i_spam = np.where(y_train=='spam')[0]\n",
    "\n",
    "n_ham = len(i_ham)\n",
    "n_spam = len(i_spam)\n",
    "\n",
    "print(n_ham)\n",
    "print(n_spam)"
   ]
  },
  {
   "cell_type": "code",
   "execution_count": 33,
   "id": "ad5aabdb",
   "metadata": {},
   "outputs": [
    {
     "name": "stdout",
     "output_type": "stream",
     "text": [
      "16164\n"
     ]
    }
   ],
   "source": [
    "i_spam_downsampled = np.random.choice(i_spam, size=n_ham, replace=False)\n",
    "print(len(i_spam_downsampled))"
   ]
  },
  {
   "cell_type": "code",
   "execution_count": 46,
   "id": "824edffb",
   "metadata": {},
   "outputs": [
    {
     "name": "stdout",
     "output_type": "stream",
     "text": [
      "(32328,)\n",
      "(32328, 8)\n"
     ]
    }
   ],
   "source": [
    "y_downsampled = np.hstack((y_train[i_ham], y_train[i_spam_downsampled]))\n",
    "X_downsampled = np.vstack((X_train[i_ham], X_train[i_spam_downsampled]))\n",
    "\n",
    "print(y_downsampled.shape)\n",
    "print(X_downsampled.shape)"
   ]
  },
  {
   "cell_type": "markdown",
   "id": "c29b460c",
   "metadata": {},
   "source": [
    "### Logistic Regression"
   ]
  },
  {
   "cell_type": "code",
   "execution_count": 41,
   "id": "c8e05ce4",
   "metadata": {},
   "outputs": [
    {
     "data": {
      "text/plain": [
       "LogisticRegression()"
      ]
     },
     "execution_count": 41,
     "metadata": {},
     "output_type": "execute_result"
    }
   ],
   "source": [
    "logreg = LogisticRegression()  \n",
    "\n",
    "logreg.fit(X_downsampled, y_downsampled)"
   ]
  },
  {
   "cell_type": "markdown",
   "id": "f68e438b",
   "metadata": {},
   "source": [
    "## Model Analysis\n",
    "\n",
    "### ROC Curve"
   ]
  },
  {
   "cell_type": "code",
   "execution_count": 42,
   "id": "dcb018c2",
   "metadata": {},
   "outputs": [
    {
     "name": "stdout",
     "output_type": "stream",
     "text": [
      "(19063,)\n",
      "['ham' 'spam']\n"
     ]
    }
   ],
   "source": [
    "prob = logreg.predict_proba(X_val)\n",
    "y_pred_prob = prob[:,1]\n",
    "print(y_pred_prob.shape)\n",
    "print(np.unique(y_val))\n",
    "fpr, tpr, thresholds = roc_curve(y_val, y_pred_prob, pos_label='spam')"
   ]
  },
  {
   "cell_type": "code",
   "execution_count": 43,
   "id": "82b3fbcf",
   "metadata": {},
   "outputs": [
    {
     "data": {
      "image/png": "[encoded data removed]",
      "text/plain": [
       "<Figure size 432x288 with 1 Axes>"
      ]
     },
     "metadata": {
      "needs_background": "light"
     },
     "output_type": "display_data"
    }
   ],
   "source": [
    "plt.plot([0, 1], [0, 1], 'k--')\n",
    "plt.plot(fpr, tpr, label='Logisitc Regression')\n",
    "plt.xlabel('False Positive Rate')\n",
    "plt.ylabel('True Positive Rate')\n",
    "plt.title('Logistic Regression ROC Curve')\n",
    "plt.show()"
   ]
  },
  {
   "cell_type": "markdown",
   "id": "c67e5f41",
   "metadata": {},
   "source": [
    "### Confusion Matrix"
   ]
  },
  {
   "cell_type": "code",
   "execution_count": 44,
   "id": "0cbb2325",
   "metadata": {},
   "outputs": [
    {
     "data": {
      "text/plain": [
       "<sklearn.metrics._plot.confusion_matrix.ConfusionMatrixDisplay at 0x2d845ef7b50>"
      ]
     },
     "execution_count": 44,
     "metadata": {},
     "output_type": "execute_result"
    },
    {
     "data": {
      "image/png": "[encoded data removed]",
      "text/plain": [
       "<Figure size 432x288 with 2 Axes>"
      ]
     },
     "metadata": {
      "needs_background": "light"
     },
     "output_type": "display_data"
    }
   ],
   "source": [
    "plot_confusion_matrix(logreg, X_val, y_val)"
   ]
  },
  {
   "cell_type": "markdown",
   "id": "2e0606c6",
   "metadata": {},
   "source": [
    "### Accuracy, Recall, Precison"
   ]
  },
  {
   "cell_type": "code",
   "execution_count": 45,
   "id": "ade003fb",
   "metadata": {},
   "outputs": [
    {
     "name": "stdout",
     "output_type": "stream",
     "text": [
      "Accuracy: 0.8857472590882862\n",
      "Precision: 0.8995265227509831\n",
      "Recall: 0.9236918005768439\n"
     ]
    }
   ],
   "source": [
    "y_pred = logreg.predict(X_val)\n",
    "matrix = confusion_matrix(y_val, y_pred)\n",
    "tp = matrix[1][1]\n",
    "tn = matrix[0][0]\n",
    "fp = matrix[0][1]\n",
    "fn = matrix[1][0]\n",
    "\n",
    "print('Accuracy:', (tp+tn)/(tp+tn+fn+fp))\n",
    "print('Precision:', (tp)/(tp+fp))\n",
    "print('Recall:', (tp)/(tp+fn))"
   ]
  }
 ],
 "metadata": {
  "kernelspec": {
   "display_name": ".venv",
   "language": "python",
   "name": "python3"
  },
  "language_info": {
   "codemirror_mode": {
    "name": "ipython",
    "version": 3
   },
   "file_extension": ".py",
   "mimetype": "text/x-python",
   "name": "python",
   "nbconvert_exporter": "python",
   "pygments_lexer": "ipython3",
   "version": "3.10.9 (tags/v3.10.9:1dd9be6, Dec  6 2022, 20:01:21) [MSC v.1934 64 bit (AMD64)]"
  },
  "vscode": {
   "interpreter": {
    "hash": "962250a8ecb4254e9bee9766697c90d3ef2723b22a4636529c18498446e5d3b7"
   }
  }
 },
 "nbformat": 4,
 "nbformat_minor": 5
}
